{
  "nbformat": 4,
  "nbformat_minor": 0,
  "metadata": {
    "colab": {
      "name": "Splitting_data.ipynb",
      "provenance": [],
      "mount_file_id": "104Y6LOyXQdz1H6RVmuW7MZTrK1y_66N8",
      "authorship_tag": "ABX9TyN4KsAnKeEmlovlL8h8fc0s",
      "include_colab_link": true
    },
    "kernelspec": {
      "name": "python3",
      "display_name": "Python 3"
    },
    "language_info": {
      "name": "python"
    }
  },
  "cells": [
    {
      "cell_type": "markdown",
      "metadata": {
        "id": "view-in-github",
        "colab_type": "text"
      },
      "source": [
        "<a href=\"https://colab.research.google.com/github/NsiriRoua/DEEPCARTO/blob/main/Splitting_data.ipynb\" target=\"_parent\"><img src=\"https://colab.research.google.com/assets/colab-badge.svg\" alt=\"Open In Colab\"/></a>"
      ]
    },
    {
      "cell_type": "code",
      "metadata": {
        "id": "NA3kuHwd4mID"
      },
      "source": [
        "import os\n",
        "\n",
        "l=[]\n",
        "for root, dirs , files in os.walk(\"/content/drive/MyDrive/DEEPCARTO/archive/Semantic segmentation dataset\",topdown=False):\n",
        "   for name in files:\n",
        "     l.append(root+'/'+name)\n",
        "     "
      ],
      "execution_count": 7,
      "outputs": []
    },
    {
      "cell_type": "code",
      "metadata": {
        "colab": {
          "base_uri": "https://localhost:8080/"
        },
        "id": "Xc6T8Vf-DjT6",
        "outputId": "7a349ca7-5728-4f51-ae20-5fce6f7d1d1e"
      },
      "source": [
        "l"
      ],
      "execution_count": 8,
      "outputs": [
        {
          "output_type": "execute_result",
          "data": {
            "text/plain": [
              "['/content/drive/MyDrive/DEEPCARTO/archive/Semantic segmentation dataset/Tile 1/images/image_part_004.jpg',\n",
              " '/content/drive/MyDrive/DEEPCARTO/archive/Semantic segmentation dataset/Tile 1/images/image_part_009.jpg',\n",
              " '/content/drive/MyDrive/DEEPCARTO/archive/Semantic segmentation dataset/Tile 1/images/image_part_007.jpg',\n",
              " '/content/drive/MyDrive/DEEPCARTO/archive/Semantic segmentation dataset/Tile 1/images/image_part_008.jpg',\n",
              " '/content/drive/MyDrive/DEEPCARTO/archive/Semantic segmentation dataset/Tile 1/images/image_part_001.jpg',\n",
              " '/content/drive/MyDrive/DEEPCARTO/archive/Semantic segmentation dataset/Tile 1/images/image_part_002.jpg',\n",
              " '/content/drive/MyDrive/DEEPCARTO/archive/Semantic segmentation dataset/Tile 1/images/image_part_005.jpg',\n",
              " '/content/drive/MyDrive/DEEPCARTO/archive/Semantic segmentation dataset/Tile 1/images/image_part_006.jpg',\n",
              " '/content/drive/MyDrive/DEEPCARTO/archive/Semantic segmentation dataset/Tile 1/images/image_part_003.jpg',\n",
              " '/content/drive/MyDrive/DEEPCARTO/archive/Semantic segmentation dataset/Tile 1/masks/image_part_005.png',\n",
              " '/content/drive/MyDrive/DEEPCARTO/archive/Semantic segmentation dataset/Tile 1/masks/image_part_007.png',\n",
              " '/content/drive/MyDrive/DEEPCARTO/archive/Semantic segmentation dataset/Tile 1/masks/image_part_009.png',\n",
              " '/content/drive/MyDrive/DEEPCARTO/archive/Semantic segmentation dataset/Tile 1/masks/image_part_003.png',\n",
              " '/content/drive/MyDrive/DEEPCARTO/archive/Semantic segmentation dataset/Tile 1/masks/image_part_008.png',\n",
              " '/content/drive/MyDrive/DEEPCARTO/archive/Semantic segmentation dataset/Tile 1/masks/image_part_006.png',\n",
              " '/content/drive/MyDrive/DEEPCARTO/archive/Semantic segmentation dataset/Tile 1/masks/image_part_001.png',\n",
              " '/content/drive/MyDrive/DEEPCARTO/archive/Semantic segmentation dataset/Tile 1/masks/image_part_002.png',\n",
              " '/content/drive/MyDrive/DEEPCARTO/archive/Semantic segmentation dataset/Tile 1/masks/image_part_004.png',\n",
              " '/content/drive/MyDrive/DEEPCARTO/archive/Semantic segmentation dataset/Tile 2/images/image_part_003.jpg',\n",
              " '/content/drive/MyDrive/DEEPCARTO/archive/Semantic segmentation dataset/Tile 2/images/image_part_008.jpg',\n",
              " '/content/drive/MyDrive/DEEPCARTO/archive/Semantic segmentation dataset/Tile 2/images/image_part_002.jpg',\n",
              " '/content/drive/MyDrive/DEEPCARTO/archive/Semantic segmentation dataset/Tile 2/images/image_part_007.jpg',\n",
              " '/content/drive/MyDrive/DEEPCARTO/archive/Semantic segmentation dataset/Tile 2/images/image_part_009.jpg',\n",
              " '/content/drive/MyDrive/DEEPCARTO/archive/Semantic segmentation dataset/Tile 2/images/image_part_006.jpg',\n",
              " '/content/drive/MyDrive/DEEPCARTO/archive/Semantic segmentation dataset/Tile 2/images/image_part_004.jpg',\n",
              " '/content/drive/MyDrive/DEEPCARTO/archive/Semantic segmentation dataset/Tile 2/images/image_part_001.jpg',\n",
              " '/content/drive/MyDrive/DEEPCARTO/archive/Semantic segmentation dataset/Tile 2/images/image_part_005.jpg',\n",
              " '/content/drive/MyDrive/DEEPCARTO/archive/Semantic segmentation dataset/Tile 2/masks/image_part_002.png',\n",
              " '/content/drive/MyDrive/DEEPCARTO/archive/Semantic segmentation dataset/Tile 2/masks/image_part_006.png',\n",
              " '/content/drive/MyDrive/DEEPCARTO/archive/Semantic segmentation dataset/Tile 2/masks/image_part_005.png',\n",
              " '/content/drive/MyDrive/DEEPCARTO/archive/Semantic segmentation dataset/Tile 2/masks/image_part_001.png',\n",
              " '/content/drive/MyDrive/DEEPCARTO/archive/Semantic segmentation dataset/Tile 2/masks/image_part_007.png',\n",
              " '/content/drive/MyDrive/DEEPCARTO/archive/Semantic segmentation dataset/Tile 2/masks/image_part_008.png',\n",
              " '/content/drive/MyDrive/DEEPCARTO/archive/Semantic segmentation dataset/Tile 2/masks/image_part_004.png',\n",
              " '/content/drive/MyDrive/DEEPCARTO/archive/Semantic segmentation dataset/Tile 2/masks/image_part_003.png',\n",
              " '/content/drive/MyDrive/DEEPCARTO/archive/Semantic segmentation dataset/Tile 2/masks/image_part_009.png',\n",
              " '/content/drive/MyDrive/DEEPCARTO/archive/Semantic segmentation dataset/Tile 3/images/image_part_009.jpg',\n",
              " '/content/drive/MyDrive/DEEPCARTO/archive/Semantic segmentation dataset/Tile 3/images/image_part_004.jpg',\n",
              " '/content/drive/MyDrive/DEEPCARTO/archive/Semantic segmentation dataset/Tile 3/images/image_part_003.jpg',\n",
              " '/content/drive/MyDrive/DEEPCARTO/archive/Semantic segmentation dataset/Tile 3/images/image_part_007.jpg',\n",
              " '/content/drive/MyDrive/DEEPCARTO/archive/Semantic segmentation dataset/Tile 3/images/image_part_002.jpg',\n",
              " '/content/drive/MyDrive/DEEPCARTO/archive/Semantic segmentation dataset/Tile 3/images/image_part_001.jpg',\n",
              " '/content/drive/MyDrive/DEEPCARTO/archive/Semantic segmentation dataset/Tile 3/images/image_part_008.jpg',\n",
              " '/content/drive/MyDrive/DEEPCARTO/archive/Semantic segmentation dataset/Tile 3/images/image_part_005.jpg',\n",
              " '/content/drive/MyDrive/DEEPCARTO/archive/Semantic segmentation dataset/Tile 3/images/image_part_006.jpg',\n",
              " '/content/drive/MyDrive/DEEPCARTO/archive/Semantic segmentation dataset/Tile 3/masks/image_part_005.png',\n",
              " '/content/drive/MyDrive/DEEPCARTO/archive/Semantic segmentation dataset/Tile 3/masks/image_part_009.png',\n",
              " '/content/drive/MyDrive/DEEPCARTO/archive/Semantic segmentation dataset/Tile 3/masks/image_part_007.png',\n",
              " '/content/drive/MyDrive/DEEPCARTO/archive/Semantic segmentation dataset/Tile 3/masks/image_part_002.png',\n",
              " '/content/drive/MyDrive/DEEPCARTO/archive/Semantic segmentation dataset/Tile 3/masks/image_part_006.png',\n",
              " '/content/drive/MyDrive/DEEPCARTO/archive/Semantic segmentation dataset/Tile 3/masks/image_part_004.png',\n",
              " '/content/drive/MyDrive/DEEPCARTO/archive/Semantic segmentation dataset/Tile 3/masks/image_part_003.png',\n",
              " '/content/drive/MyDrive/DEEPCARTO/archive/Semantic segmentation dataset/Tile 3/masks/image_part_001.png',\n",
              " '/content/drive/MyDrive/DEEPCARTO/archive/Semantic segmentation dataset/Tile 3/masks/image_part_008.png',\n",
              " '/content/drive/MyDrive/DEEPCARTO/archive/Semantic segmentation dataset/Tile 4/images/image_part_001.jpg',\n",
              " '/content/drive/MyDrive/DEEPCARTO/archive/Semantic segmentation dataset/Tile 4/images/image_part_003.jpg',\n",
              " '/content/drive/MyDrive/DEEPCARTO/archive/Semantic segmentation dataset/Tile 4/images/image_part_008.jpg',\n",
              " '/content/drive/MyDrive/DEEPCARTO/archive/Semantic segmentation dataset/Tile 4/images/image_part_004.jpg',\n",
              " '/content/drive/MyDrive/DEEPCARTO/archive/Semantic segmentation dataset/Tile 4/images/image_part_007.jpg',\n",
              " '/content/drive/MyDrive/DEEPCARTO/archive/Semantic segmentation dataset/Tile 4/images/image_part_009.jpg',\n",
              " '/content/drive/MyDrive/DEEPCARTO/archive/Semantic segmentation dataset/Tile 4/images/image_part_002.jpg',\n",
              " '/content/drive/MyDrive/DEEPCARTO/archive/Semantic segmentation dataset/Tile 4/images/image_part_006.jpg',\n",
              " '/content/drive/MyDrive/DEEPCARTO/archive/Semantic segmentation dataset/Tile 4/images/image_part_005.jpg',\n",
              " '/content/drive/MyDrive/DEEPCARTO/archive/Semantic segmentation dataset/Tile 4/masks/image_part_002.png',\n",
              " '/content/drive/MyDrive/DEEPCARTO/archive/Semantic segmentation dataset/Tile 4/masks/image_part_007.png',\n",
              " '/content/drive/MyDrive/DEEPCARTO/archive/Semantic segmentation dataset/Tile 4/masks/image_part_005.png',\n",
              " '/content/drive/MyDrive/DEEPCARTO/archive/Semantic segmentation dataset/Tile 4/masks/image_part_008.png',\n",
              " '/content/drive/MyDrive/DEEPCARTO/archive/Semantic segmentation dataset/Tile 4/masks/image_part_003.png',\n",
              " '/content/drive/MyDrive/DEEPCARTO/archive/Semantic segmentation dataset/Tile 4/masks/image_part_009.png',\n",
              " '/content/drive/MyDrive/DEEPCARTO/archive/Semantic segmentation dataset/Tile 4/masks/image_part_004.png',\n",
              " '/content/drive/MyDrive/DEEPCARTO/archive/Semantic segmentation dataset/Tile 4/masks/image_part_006.png',\n",
              " '/content/drive/MyDrive/DEEPCARTO/archive/Semantic segmentation dataset/Tile 4/masks/image_part_001.png',\n",
              " '/content/drive/MyDrive/DEEPCARTO/archive/Semantic segmentation dataset/Tile 5/images/image_part_001.jpg',\n",
              " '/content/drive/MyDrive/DEEPCARTO/archive/Semantic segmentation dataset/Tile 5/images/image_part_002.jpg',\n",
              " '/content/drive/MyDrive/DEEPCARTO/archive/Semantic segmentation dataset/Tile 5/images/image_part_003.jpg',\n",
              " '/content/drive/MyDrive/DEEPCARTO/archive/Semantic segmentation dataset/Tile 5/images/image_part_005.jpg',\n",
              " '/content/drive/MyDrive/DEEPCARTO/archive/Semantic segmentation dataset/Tile 5/images/image_part_008.jpg',\n",
              " '/content/drive/MyDrive/DEEPCARTO/archive/Semantic segmentation dataset/Tile 5/images/image_part_007.jpg',\n",
              " '/content/drive/MyDrive/DEEPCARTO/archive/Semantic segmentation dataset/Tile 5/images/image_part_006.jpg',\n",
              " '/content/drive/MyDrive/DEEPCARTO/archive/Semantic segmentation dataset/Tile 5/images/image_part_009.jpg',\n",
              " '/content/drive/MyDrive/DEEPCARTO/archive/Semantic segmentation dataset/Tile 5/images/image_part_004.jpg',\n",
              " '/content/drive/MyDrive/DEEPCARTO/archive/Semantic segmentation dataset/Tile 5/masks/image_part_005.png',\n",
              " '/content/drive/MyDrive/DEEPCARTO/archive/Semantic segmentation dataset/Tile 5/masks/image_part_002.png',\n",
              " '/content/drive/MyDrive/DEEPCARTO/archive/Semantic segmentation dataset/Tile 5/masks/image_part_004.png',\n",
              " '/content/drive/MyDrive/DEEPCARTO/archive/Semantic segmentation dataset/Tile 5/masks/image_part_006.png',\n",
              " '/content/drive/MyDrive/DEEPCARTO/archive/Semantic segmentation dataset/Tile 5/masks/image_part_007.png',\n",
              " '/content/drive/MyDrive/DEEPCARTO/archive/Semantic segmentation dataset/Tile 5/masks/image_part_003.png',\n",
              " '/content/drive/MyDrive/DEEPCARTO/archive/Semantic segmentation dataset/Tile 5/masks/image_part_008.png',\n",
              " '/content/drive/MyDrive/DEEPCARTO/archive/Semantic segmentation dataset/Tile 5/masks/image_part_009.png',\n",
              " '/content/drive/MyDrive/DEEPCARTO/archive/Semantic segmentation dataset/Tile 5/masks/image_part_001.png',\n",
              " '/content/drive/MyDrive/DEEPCARTO/archive/Semantic segmentation dataset/Tile 6/images/image_part_005.jpg',\n",
              " '/content/drive/MyDrive/DEEPCARTO/archive/Semantic segmentation dataset/Tile 6/images/image_part_008.jpg',\n",
              " '/content/drive/MyDrive/DEEPCARTO/archive/Semantic segmentation dataset/Tile 6/images/image_part_009.jpg',\n",
              " '/content/drive/MyDrive/DEEPCARTO/archive/Semantic segmentation dataset/Tile 6/images/image_part_002.jpg',\n",
              " '/content/drive/MyDrive/DEEPCARTO/archive/Semantic segmentation dataset/Tile 6/images/image_part_001.jpg',\n",
              " '/content/drive/MyDrive/DEEPCARTO/archive/Semantic segmentation dataset/Tile 6/images/image_part_006.jpg',\n",
              " '/content/drive/MyDrive/DEEPCARTO/archive/Semantic segmentation dataset/Tile 6/images/image_part_004.jpg',\n",
              " '/content/drive/MyDrive/DEEPCARTO/archive/Semantic segmentation dataset/Tile 6/images/image_part_007.jpg',\n",
              " '/content/drive/MyDrive/DEEPCARTO/archive/Semantic segmentation dataset/Tile 6/images/image_part_003.jpg',\n",
              " '/content/drive/MyDrive/DEEPCARTO/archive/Semantic segmentation dataset/Tile 6/masks/image_part_008.png',\n",
              " '/content/drive/MyDrive/DEEPCARTO/archive/Semantic segmentation dataset/Tile 6/masks/image_part_001.png',\n",
              " '/content/drive/MyDrive/DEEPCARTO/archive/Semantic segmentation dataset/Tile 6/masks/image_part_004.png',\n",
              " '/content/drive/MyDrive/DEEPCARTO/archive/Semantic segmentation dataset/Tile 6/masks/image_part_009.png',\n",
              " '/content/drive/MyDrive/DEEPCARTO/archive/Semantic segmentation dataset/Tile 6/masks/image_part_005.png',\n",
              " '/content/drive/MyDrive/DEEPCARTO/archive/Semantic segmentation dataset/Tile 6/masks/image_part_006.png',\n",
              " '/content/drive/MyDrive/DEEPCARTO/archive/Semantic segmentation dataset/Tile 6/masks/image_part_003.png',\n",
              " '/content/drive/MyDrive/DEEPCARTO/archive/Semantic segmentation dataset/Tile 6/masks/image_part_002.png',\n",
              " '/content/drive/MyDrive/DEEPCARTO/archive/Semantic segmentation dataset/Tile 6/masks/image_part_007.png',\n",
              " '/content/drive/MyDrive/DEEPCARTO/archive/Semantic segmentation dataset/Tile 7/images/image_part_005.jpg',\n",
              " '/content/drive/MyDrive/DEEPCARTO/archive/Semantic segmentation dataset/Tile 7/images/image_part_001.jpg',\n",
              " '/content/drive/MyDrive/DEEPCARTO/archive/Semantic segmentation dataset/Tile 7/images/image_part_008.jpg',\n",
              " '/content/drive/MyDrive/DEEPCARTO/archive/Semantic segmentation dataset/Tile 7/images/image_part_002.jpg',\n",
              " '/content/drive/MyDrive/DEEPCARTO/archive/Semantic segmentation dataset/Tile 7/images/image_part_003.jpg',\n",
              " '/content/drive/MyDrive/DEEPCARTO/archive/Semantic segmentation dataset/Tile 7/images/image_part_007.jpg',\n",
              " '/content/drive/MyDrive/DEEPCARTO/archive/Semantic segmentation dataset/Tile 7/images/image_part_006.jpg',\n",
              " '/content/drive/MyDrive/DEEPCARTO/archive/Semantic segmentation dataset/Tile 7/images/image_part_004.jpg',\n",
              " '/content/drive/MyDrive/DEEPCARTO/archive/Semantic segmentation dataset/Tile 7/images/image_part_009.jpg',\n",
              " '/content/drive/MyDrive/DEEPCARTO/archive/Semantic segmentation dataset/Tile 7/masks/image_part_004.png',\n",
              " '/content/drive/MyDrive/DEEPCARTO/archive/Semantic segmentation dataset/Tile 7/masks/image_part_002.png',\n",
              " '/content/drive/MyDrive/DEEPCARTO/archive/Semantic segmentation dataset/Tile 7/masks/image_part_008.png',\n",
              " '/content/drive/MyDrive/DEEPCARTO/archive/Semantic segmentation dataset/Tile 7/masks/image_part_006.png',\n",
              " '/content/drive/MyDrive/DEEPCARTO/archive/Semantic segmentation dataset/Tile 7/masks/image_part_001.png',\n",
              " '/content/drive/MyDrive/DEEPCARTO/archive/Semantic segmentation dataset/Tile 7/masks/image_part_007.png',\n",
              " '/content/drive/MyDrive/DEEPCARTO/archive/Semantic segmentation dataset/Tile 7/masks/image_part_003.png',\n",
              " '/content/drive/MyDrive/DEEPCARTO/archive/Semantic segmentation dataset/Tile 7/masks/image_part_005.png',\n",
              " '/content/drive/MyDrive/DEEPCARTO/archive/Semantic segmentation dataset/Tile 7/masks/image_part_009.png',\n",
              " '/content/drive/MyDrive/DEEPCARTO/archive/Semantic segmentation dataset/Tile 8/images/image_part_005.jpg',\n",
              " '/content/drive/MyDrive/DEEPCARTO/archive/Semantic segmentation dataset/Tile 8/images/image_part_003.jpg',\n",
              " '/content/drive/MyDrive/DEEPCARTO/archive/Semantic segmentation dataset/Tile 8/images/image_part_007.jpg',\n",
              " '/content/drive/MyDrive/DEEPCARTO/archive/Semantic segmentation dataset/Tile 8/images/image_part_009.jpg',\n",
              " '/content/drive/MyDrive/DEEPCARTO/archive/Semantic segmentation dataset/Tile 8/images/image_part_004.jpg',\n",
              " '/content/drive/MyDrive/DEEPCARTO/archive/Semantic segmentation dataset/Tile 8/images/image_part_006.jpg',\n",
              " '/content/drive/MyDrive/DEEPCARTO/archive/Semantic segmentation dataset/Tile 8/images/image_part_001.jpg',\n",
              " '/content/drive/MyDrive/DEEPCARTO/archive/Semantic segmentation dataset/Tile 8/images/image_part_008.jpg',\n",
              " '/content/drive/MyDrive/DEEPCARTO/archive/Semantic segmentation dataset/Tile 8/images/image_part_002.jpg',\n",
              " '/content/drive/MyDrive/DEEPCARTO/archive/Semantic segmentation dataset/Tile 8/masks/image_part_001.png',\n",
              " '/content/drive/MyDrive/DEEPCARTO/archive/Semantic segmentation dataset/Tile 8/masks/image_part_004.png',\n",
              " '/content/drive/MyDrive/DEEPCARTO/archive/Semantic segmentation dataset/Tile 8/masks/image_part_007.png',\n",
              " '/content/drive/MyDrive/DEEPCARTO/archive/Semantic segmentation dataset/Tile 8/masks/image_part_003.png',\n",
              " '/content/drive/MyDrive/DEEPCARTO/archive/Semantic segmentation dataset/Tile 8/masks/image_part_006.png',\n",
              " '/content/drive/MyDrive/DEEPCARTO/archive/Semantic segmentation dataset/Tile 8/masks/image_part_002.png',\n",
              " '/content/drive/MyDrive/DEEPCARTO/archive/Semantic segmentation dataset/Tile 8/masks/image_part_009.png',\n",
              " '/content/drive/MyDrive/DEEPCARTO/archive/Semantic segmentation dataset/Tile 8/masks/image_part_008.png',\n",
              " '/content/drive/MyDrive/DEEPCARTO/archive/Semantic segmentation dataset/Tile 8/masks/image_part_005.png',\n",
              " '/content/drive/MyDrive/DEEPCARTO/archive/Semantic segmentation dataset/classes.json']"
            ]
          },
          "metadata": {},
          "execution_count": 8
        }
      ]
    },
    {
      "cell_type": "code",
      "metadata": {
        "id": "UR5-ZYje-6Lc"
      },
      "source": [
        "import os\n",
        "\n",
        "lx=[]\n",
        "for root, dirs , files in os.walk(\"/content/drive/MyDrive/DEEPCARTO/archive/Semantic segmentation dataset\",topdown=False):\n",
        "   for name in files:\n",
        "     lx.append(name)"
      ],
      "execution_count": 1,
      "outputs": []
    },
    {
      "cell_type": "code",
      "metadata": {
        "colab": {
          "base_uri": "https://localhost:8080/"
        },
        "id": "hj_AZWxNCjhY",
        "outputId": "ccbc2779-93e4-4b04-871d-6649d924961a"
      },
      "source": [
        "lx"
      ],
      "execution_count": 2,
      "outputs": [
        {
          "output_type": "execute_result",
          "data": {
            "text/plain": [
              "['image_part_004.jpg',\n",
              " 'image_part_009.jpg',\n",
              " 'image_part_007.jpg',\n",
              " 'image_part_008.jpg',\n",
              " 'image_part_001.jpg',\n",
              " 'image_part_002.jpg',\n",
              " 'image_part_005.jpg',\n",
              " 'image_part_006.jpg',\n",
              " 'image_part_003.jpg',\n",
              " 'image_part_005.png',\n",
              " 'image_part_007.png',\n",
              " 'image_part_009.png',\n",
              " 'image_part_003.png',\n",
              " 'image_part_008.png',\n",
              " 'image_part_006.png',\n",
              " 'image_part_001.png',\n",
              " 'image_part_002.png',\n",
              " 'image_part_004.png',\n",
              " 'image_part_003.jpg',\n",
              " 'image_part_008.jpg',\n",
              " 'image_part_002.jpg',\n",
              " 'image_part_007.jpg',\n",
              " 'image_part_009.jpg',\n",
              " 'image_part_006.jpg',\n",
              " 'image_part_004.jpg',\n",
              " 'image_part_001.jpg',\n",
              " 'image_part_005.jpg',\n",
              " 'image_part_002.png',\n",
              " 'image_part_006.png',\n",
              " 'image_part_005.png',\n",
              " 'image_part_001.png',\n",
              " 'image_part_007.png',\n",
              " 'image_part_008.png',\n",
              " 'image_part_004.png',\n",
              " 'image_part_003.png',\n",
              " 'image_part_009.png',\n",
              " 'image_part_009.jpg',\n",
              " 'image_part_004.jpg',\n",
              " 'image_part_003.jpg',\n",
              " 'image_part_007.jpg',\n",
              " 'image_part_002.jpg',\n",
              " 'image_part_001.jpg',\n",
              " 'image_part_008.jpg',\n",
              " 'image_part_005.jpg',\n",
              " 'image_part_006.jpg',\n",
              " 'image_part_005.png',\n",
              " 'image_part_009.png',\n",
              " 'image_part_007.png',\n",
              " 'image_part_002.png',\n",
              " 'image_part_006.png',\n",
              " 'image_part_004.png',\n",
              " 'image_part_003.png',\n",
              " 'image_part_001.png',\n",
              " 'image_part_008.png',\n",
              " 'image_part_001.jpg',\n",
              " 'image_part_003.jpg',\n",
              " 'image_part_008.jpg',\n",
              " 'image_part_004.jpg',\n",
              " 'image_part_007.jpg',\n",
              " 'image_part_009.jpg',\n",
              " 'image_part_002.jpg',\n",
              " 'image_part_006.jpg',\n",
              " 'image_part_005.jpg',\n",
              " 'image_part_002.png',\n",
              " 'image_part_007.png',\n",
              " 'image_part_005.png',\n",
              " 'image_part_008.png',\n",
              " 'image_part_003.png',\n",
              " 'image_part_009.png',\n",
              " 'image_part_004.png',\n",
              " 'image_part_006.png',\n",
              " 'image_part_001.png',\n",
              " 'image_part_001.jpg',\n",
              " 'image_part_002.jpg',\n",
              " 'image_part_003.jpg',\n",
              " 'image_part_005.jpg',\n",
              " 'image_part_008.jpg',\n",
              " 'image_part_007.jpg',\n",
              " 'image_part_006.jpg',\n",
              " 'image_part_009.jpg',\n",
              " 'image_part_004.jpg',\n",
              " 'image_part_005.png',\n",
              " 'image_part_002.png',\n",
              " 'image_part_004.png',\n",
              " 'image_part_006.png',\n",
              " 'image_part_007.png',\n",
              " 'image_part_003.png',\n",
              " 'image_part_008.png',\n",
              " 'image_part_009.png',\n",
              " 'image_part_001.png',\n",
              " 'image_part_005.jpg',\n",
              " 'image_part_008.jpg',\n",
              " 'image_part_009.jpg',\n",
              " 'image_part_002.jpg',\n",
              " 'image_part_001.jpg',\n",
              " 'image_part_006.jpg',\n",
              " 'image_part_004.jpg',\n",
              " 'image_part_007.jpg',\n",
              " 'image_part_003.jpg',\n",
              " 'image_part_008.png',\n",
              " 'image_part_001.png',\n",
              " 'image_part_004.png',\n",
              " 'image_part_009.png',\n",
              " 'image_part_005.png',\n",
              " 'image_part_006.png',\n",
              " 'image_part_003.png',\n",
              " 'image_part_002.png',\n",
              " 'image_part_007.png',\n",
              " 'image_part_005.jpg',\n",
              " 'image_part_001.jpg',\n",
              " 'image_part_008.jpg',\n",
              " 'image_part_002.jpg',\n",
              " 'image_part_003.jpg',\n",
              " 'image_part_007.jpg',\n",
              " 'image_part_006.jpg',\n",
              " 'image_part_004.jpg',\n",
              " 'image_part_009.jpg',\n",
              " 'image_part_004.png',\n",
              " 'image_part_002.png',\n",
              " 'image_part_008.png',\n",
              " 'image_part_006.png',\n",
              " 'image_part_001.png',\n",
              " 'image_part_007.png',\n",
              " 'image_part_003.png',\n",
              " 'image_part_005.png',\n",
              " 'image_part_009.png',\n",
              " 'image_part_005.jpg',\n",
              " 'image_part_003.jpg',\n",
              " 'image_part_007.jpg',\n",
              " 'image_part_009.jpg',\n",
              " 'image_part_004.jpg',\n",
              " 'image_part_006.jpg',\n",
              " 'image_part_001.jpg',\n",
              " 'image_part_008.jpg',\n",
              " 'image_part_002.jpg',\n",
              " 'image_part_001.png',\n",
              " 'image_part_004.png',\n",
              " 'image_part_007.png',\n",
              " 'image_part_003.png',\n",
              " 'image_part_006.png',\n",
              " 'image_part_002.png',\n",
              " 'image_part_009.png',\n",
              " 'image_part_008.png',\n",
              " 'image_part_005.png',\n",
              " 'classes.json']"
            ]
          },
          "metadata": {},
          "execution_count": 2
        }
      ]
    },
    {
      "cell_type": "code",
      "metadata": {
        "colab": {
          "base_uri": "https://localhost:8080/"
        },
        "id": "TnitPCbL84NL",
        "outputId": "ea621e07-a231-4123-b54b-a23403aa3596"
      },
      "source": [
        "%cd /content/sample_data"
      ],
      "execution_count": 140,
      "outputs": [
        {
          "output_type": "stream",
          "name": "stdout",
          "text": [
            "/content/sample_data\n"
          ]
        }
      ]
    },
    {
      "cell_type": "code",
      "metadata": {
        "colab": {
          "base_uri": "https://localhost:8080/",
          "height": 35
        },
        "id": "VywA7MumDF41",
        "outputId": "39690e80-0a36-497b-ca1e-5a1822a5b858"
      },
      "source": [
        "lx[0][-3:]"
      ],
      "execution_count": 4,
      "outputs": [
        {
          "output_type": "execute_result",
          "data": {
            "application/vnd.google.colaboratory.intrinsic+json": {
              "type": "string"
            },
            "text/plain": [
              "'jpg'"
            ]
          },
          "metadata": {},
          "execution_count": 4
        }
      ]
    },
    {
      "cell_type": "code",
      "metadata": {
        "id": "byewGni26ZVt"
      },
      "source": [
        "l2=[]\n",
        "l3=[]\n",
        "\n",
        "for i in range(len(lx)):\n",
        "  if lx[i][-3:] == 'jpg':\n",
        "    l2.append(lx[i])\n",
        "  else :\n",
        "    l3.append(lx[i])\n"
      ],
      "execution_count": 6,
      "outputs": []
    },
    {
      "cell_type": "code",
      "metadata": {
        "id": "TygVmcloAUgE"
      },
      "source": [
        "li=[]\n",
        "lm=[]\n",
        "\n",
        "for i in range(len(l)):\n",
        "  if l[i][-3:] == 'jpg':\n",
        "    li.append(l[i])\n",
        "  else :\n",
        "    lm.append(l[i])\n"
      ],
      "execution_count": 9,
      "outputs": []
    },
    {
      "cell_type": "code",
      "metadata": {
        "colab": {
          "base_uri": "https://localhost:8080/",
          "height": 35
        },
        "id": "81s_fvDzDtJy",
        "outputId": "89c4dc74-8f57-463d-cbfa-4c0a2a8ff42c"
      },
      "source": [
        "li[0]"
      ],
      "execution_count": 10,
      "outputs": [
        {
          "output_type": "execute_result",
          "data": {
            "application/vnd.google.colaboratory.intrinsic+json": {
              "type": "string"
            },
            "text/plain": [
              "'/content/drive/MyDrive/DEEPCARTO/archive/Semantic segmentation dataset/Tile 1/images/image_part_004.jpg'"
            ]
          },
          "metadata": {},
          "execution_count": 10
        }
      ]
    },
    {
      "cell_type": "code",
      "metadata": {
        "colab": {
          "base_uri": "https://localhost:8080/"
        },
        "id": "yf__pfyHFXmT",
        "outputId": "0e66915e-7e43-4652-d0f0-d501501a985a"
      },
      "source": [
        "len(li)"
      ],
      "execution_count": 20,
      "outputs": [
        {
          "output_type": "execute_result",
          "data": {
            "text/plain": [
              "72"
            ]
          },
          "metadata": {},
          "execution_count": 20
        }
      ]
    },
    {
      "cell_type": "code",
      "metadata": {
        "id": "XhfnvBHELi7F"
      },
      "source": [
        "L = [] #List that contain train images\n",
        "P=[] #List that contains  train masks\n",
        "i=0\n",
        "while (len(L) and len(P)) < 57 :\n",
        "  \n",
        "    L.append(li[i])\n",
        "    P.append(lm[i])\n",
        "    i+=1"
      ],
      "execution_count": 12,
      "outputs": []
    },
    {
      "cell_type": "code",
      "metadata": {
        "colab": {
          "base_uri": "https://localhost:8080/"
        },
        "id": "GrmsQPfTIE4E",
        "outputId": "7e681fdc-991f-47a4-8dbe-1cfcd29a42a1"
      },
      "source": [
        "len(li)"
      ],
      "execution_count": 22,
      "outputs": [
        {
          "output_type": "execute_result",
          "data": {
            "text/plain": [
              "72"
            ]
          },
          "metadata": {},
          "execution_count": 22
        }
      ]
    },
    {
      "cell_type": "code",
      "metadata": {
        "colab": {
          "base_uri": "https://localhost:8080/"
        },
        "id": "OwQ6PRNaIGcP",
        "outputId": "23fcc441-57bc-4d4e-f20a-6e2dce640c71"
      },
      "source": [
        "len(lm)"
      ],
      "execution_count": 23,
      "outputs": [
        {
          "output_type": "execute_result",
          "data": {
            "text/plain": [
              "73"
            ]
          },
          "metadata": {},
          "execution_count": 23
        }
      ]
    },
    {
      "cell_type": "code",
      "metadata": {
        "colab": {
          "base_uri": "https://localhost:8080/"
        },
        "id": "Hpc2--qRJTcZ",
        "outputId": "f7f9182f-625e-4863-b3c4-5c85f233edc6"
      },
      "source": [
        "len(lm1)"
      ],
      "execution_count": 30,
      "outputs": [
        {
          "output_type": "execute_result",
          "data": {
            "text/plain": [
              "72"
            ]
          },
          "metadata": {},
          "execution_count": 30
        }
      ]
    },
    {
      "cell_type": "code",
      "metadata": {
        "colab": {
          "base_uri": "https://localhost:8080/",
          "height": 35
        },
        "id": "Pm73nI6BJsYt",
        "outputId": "1f75d759-e85b-4ed4-8e46-aa85f787b483"
      },
      "source": [
        "li[57+14]"
      ],
      "execution_count": 37,
      "outputs": [
        {
          "output_type": "execute_result",
          "data": {
            "application/vnd.google.colaboratory.intrinsic+json": {
              "type": "string"
            },
            "text/plain": [
              "'/content/drive/MyDrive/DEEPCARTO/archive/Semantic segmentation dataset/Tile 8/images/image_part_002.jpg'"
            ]
          },
          "metadata": {},
          "execution_count": 37
        }
      ]
    },
    {
      "cell_type": "code",
      "metadata": {
        "colab": {
          "base_uri": "https://localhost:8080/"
        },
        "id": "cW9_LwVREMFf",
        "outputId": "3f346948-3609-4606-e973-eaf0ded27c09"
      },
      "source": [
        "print(len(L))"
      ],
      "execution_count": 13,
      "outputs": [
        {
          "output_type": "stream",
          "name": "stdout",
          "text": [
            "57\n"
          ]
        }
      ]
    },
    {
      "cell_type": "markdown",
      "metadata": {
        "id": "uN9Y7fwxJ4X1"
      },
      "source": [
        "# Train set :"
      ]
    },
    {
      "cell_type": "code",
      "metadata": {
        "id": "obtrjFOV42Kn"
      },
      "source": [
        "import cv2\n",
        "from google.colab.patches import cv2_imshow\n",
        "for i in range(len(L)):\n",
        "  img=cv2.imread(L[i])\n",
        "  cv2.imwrite('/content/drive/MyDrive/DEEPCARTO/archive/train/train_images/'+str(i)+L[i][-18:],img)"
      ],
      "execution_count": 15,
      "outputs": []
    },
    {
      "cell_type": "code",
      "metadata": {
        "colab": {
          "base_uri": "https://localhost:8080/",
          "height": 35
        },
        "id": "M0D3bqJcEnPp",
        "outputId": "b1713eca-cf24-45e3-bf3f-8ec1c32b505e"
      },
      "source": [
        "import cv2\n",
        "from google.colab.patches import cv2_imshow\n",
        "for i in range(len(L)):\n",
        "  img=cv2.imread(L[i])\n",
        "  cv2.imwrite('/content/drive/MyDrive/DEEPCARTO/archive/train/train_images/'+str(i)+L[i][-18:],img)"
      ],
      "execution_count": 16,
      "outputs": [
        {
          "output_type": "execute_result",
          "data": {
            "application/vnd.google.colaboratory.intrinsic+json": {
              "type": "string"
            },
            "text/plain": [
              "'/content/drive/MyDrive/DEEPCARTO/archive/Semantic segmentation dataset/Tile 1/masks/image_part_005.png'"
            ]
          },
          "metadata": {},
          "execution_count": 16
        }
      ]
    },
    {
      "cell_type": "code",
      "metadata": {
        "id": "cR4tS8b9E2jm"
      },
      "source": [
        "import cv2\n",
        "from google.colab.patches import cv2_imshow\n",
        "for i in range(len(P)):\n",
        "  img=cv2.imread(P[i])\n",
        "  cv2.imwrite('/content/drive/MyDrive/DEEPCARTO/archive/train/train_masks/'+str(i)+P[i][-18:],img)"
      ],
      "execution_count": 19,
      "outputs": []
    },
    {
      "cell_type": "code",
      "metadata": {
        "id": "m7kLkJzL8l_-"
      },
      "source": [
        "import glob \n",
        "lis = glob.glob('/content/drive/MyDrive/DEEPCARTO/archive/train/train_images/*.jpg')"
      ],
      "execution_count": 17,
      "outputs": []
    },
    {
      "cell_type": "code",
      "metadata": {
        "colab": {
          "base_uri": "https://localhost:8080/"
        },
        "id": "9Th_rkx-FRQ3",
        "outputId": "5e1f0954-9b94-4b8c-f588-7fbab6514f70"
      },
      "source": [
        "len(lis)"
      ],
      "execution_count": 18,
      "outputs": [
        {
          "output_type": "execute_result",
          "data": {
            "text/plain": [
              "57"
            ]
          },
          "metadata": {},
          "execution_count": 18
        }
      ]
    },
    {
      "cell_type": "markdown",
      "metadata": {
        "id": "mEJGr59lJ8dN"
      },
      "source": [
        "# Validation set :"
      ]
    },
    {
      "cell_type": "code",
      "metadata": {
        "id": "6OaF26_iIM54"
      },
      "source": [
        "lm1=lm[:72]"
      ],
      "execution_count": 29,
      "outputs": []
    },
    {
      "cell_type": "code",
      "metadata": {
        "id": "beQNtKrPF_Ce"
      },
      "source": [
        "L1=[] #List that will contain test images\n",
        "P1=[] #List that will contain  test masks\n",
        "i=58\n",
        "while (len(L1) and len(P1)) < 14 :\n",
        "  L1.append(li[i])\n",
        "  P1.append(lm1[i])\n",
        "  i+=1\n",
        "\n"
      ],
      "execution_count": 38,
      "outputs": []
    },
    {
      "cell_type": "code",
      "metadata": {
        "id": "USvAwxJWKRvB"
      },
      "source": [
        "import cv2\n",
        "from google.colab.patches import cv2_imshow\n",
        "for i in range(len(L1)):\n",
        "  img=cv2.imread(L1[i])\n",
        "  cv2.imwrite('/content/drive/MyDrive/DEEPCARTO/archive/test/test_images/'+str(i)+L1[i][-18:],img)"
      ],
      "execution_count": 39,
      "outputs": []
    },
    {
      "cell_type": "code",
      "metadata": {
        "id": "XWTEMq5AKgak"
      },
      "source": [
        "import cv2\n",
        "from google.colab.patches import cv2_imshow\n",
        "for i in range(len(P1)):\n",
        "  img=cv2.imread(P1[i])\n",
        "  cv2.imwrite('/content/drive/MyDrive/DEEPCARTO/archive/test/test_masks/'+str(i)+P1[i][-18:],img)"
      ],
      "execution_count": 40,
      "outputs": []
    },
    {
      "cell_type": "code",
      "metadata": {
        "id": "KJkP4BKh6lfN"
      },
      "source": [
        ""
      ],
      "execution_count": null,
      "outputs": []
    }
  ]
}